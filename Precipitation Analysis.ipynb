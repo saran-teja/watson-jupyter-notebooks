{
    "cells": [
        {
            "cell_type": "markdown",
            "metadata": {},
            "source": "# Precipitation Analysis Using Python Pandas\nThis notebook analyzes and displays the first n rows of the precipitations csv file"
        },
        {
            "cell_type": "code",
            "execution_count": 7,
            "metadata": {},
            "outputs": [
                {
                    "name": "stdout",
                    "output_type": "stream",
                    "text": "Add your respective credentials\n"
                }
            ],
            "source": "\nimport os, types\nimport pandas as pd\nfrom botocore.client import Config\nimport ibm_boto3\n\ndef __iter__(self): return 0\nprint(\"Add your respective credentials\")"
        },
        {
            "cell_type": "code",
            "execution_count": 8,
            "metadata": {},
            "outputs": [],
            "source": "# The code was removed by Watson Studio for sharing."
        },
        {
            "cell_type": "code",
            "execution_count": 9,
            "metadata": {},
            "outputs": [
                {
                    "data": {
                        "text/html": "<div>\n<style scoped>\n    .dataframe tbody tr th:only-of-type {\n        vertical-align: middle;\n    }\n\n    .dataframe tbody tr th {\n        vertical-align: top;\n    }\n\n    .dataframe thead th {\n        text-align: right;\n    }\n</style>\n<table border=\"1\" class=\"dataframe\">\n  <thead>\n    <tr style=\"text-align: right;\">\n      <th></th>\n      <th>Country or Area</th>\n      <th>1990</th>\n      <th>1995</th>\n      <th>1996</th>\n      <th>1997</th>\n      <th>1998</th>\n      <th>1999</th>\n      <th>2000</th>\n      <th>2001</th>\n      <th>2002</th>\n      <th>2003</th>\n      <th>2004</th>\n      <th>2005</th>\n      <th>2006</th>\n      <th>2007</th>\n      <th>2008</th>\n      <th>2009</th>\n    </tr>\n  </thead>\n  <tbody>\n    <tr>\n      <th>0</th>\n      <td>Albania</td>\n      <td>28385.000000</td>\n      <td>40311.000000</td>\n      <td>0.000000</td>\n      <td>0.000000</td>\n      <td>0.000000</td>\n      <td>38284.000000</td>\n      <td>30683.000000</td>\n      <td>30491.000000</td>\n      <td>35883.000000</td>\n      <td>27893.000000</td>\n      <td>42787.000000</td>\n      <td>42840.000000</td>\n      <td>32380.000000</td>\n      <td>30964.000000</td>\n      <td>0.000000</td>\n      <td>0.000000</td>\n    </tr>\n    <tr>\n      <th>1</th>\n      <td>Algeria</td>\n      <td>76160.000000</td>\n      <td>90270.000000</td>\n      <td>53380.000000</td>\n      <td>74460.000000</td>\n      <td>66470.000000</td>\n      <td>50150.000000</td>\n      <td>64430.000000</td>\n      <td>43840.000000</td>\n      <td>37317.000000</td>\n      <td>0.000000</td>\n      <td>0.000000</td>\n      <td>0.000000</td>\n      <td>0.000000</td>\n      <td>0.000000</td>\n      <td>100000.000000</td>\n      <td>0.000000</td>\n    </tr>\n    <tr>\n      <th>2</th>\n      <td>Andorra</td>\n      <td>539.947998</td>\n      <td>510.673004</td>\n      <td>560.340027</td>\n      <td>434.475006</td>\n      <td>254.000000</td>\n      <td>450.151001</td>\n      <td>518.666016</td>\n      <td>456.626007</td>\n      <td>565.559021</td>\n      <td>566.583008</td>\n      <td>567.044006</td>\n      <td>530.278015</td>\n      <td>353.220001</td>\n      <td>306.630005</td>\n      <td>0.000000</td>\n      <td>0.000000</td>\n    </tr>\n    <tr>\n      <th>3</th>\n      <td>Anguilla</td>\n      <td>93.099998</td>\n      <td>100.730003</td>\n      <td>0.000000</td>\n      <td>0.000000</td>\n      <td>0.000000</td>\n      <td>0.000000</td>\n      <td>68.190002</td>\n      <td>70.730003</td>\n      <td>68.190002</td>\n      <td>108.769997</td>\n      <td>84.250000</td>\n      <td>124.400002</td>\n      <td>99.550003</td>\n      <td>86.290001</td>\n      <td>96.889999</td>\n      <td>71.080002</td>\n    </tr>\n    <tr>\n      <th>4</th>\n      <td>Antigua and Barbuda</td>\n      <td>300.299988</td>\n      <td>374.500000</td>\n      <td>323.299988</td>\n      <td>279.200012</td>\n      <td>384.500000</td>\n      <td>426.799988</td>\n      <td>249.600006</td>\n      <td>238.000000</td>\n      <td>268.600006</td>\n      <td>253.899994</td>\n      <td>426.899994</td>\n      <td>371.000000</td>\n      <td>332.799988</td>\n      <td>293.600006</td>\n      <td>392.500000</td>\n      <td>276.899994</td>\n    </tr>\n    <tr>\n      <th>5</th>\n      <td>Armenia</td>\n      <td>15794.000000</td>\n      <td>15407.000000</td>\n      <td>16777.000000</td>\n      <td>18595.000000</td>\n      <td>13559.000000</td>\n      <td>14393.000000</td>\n      <td>11264.000000</td>\n      <td>12516.000000</td>\n      <td>17761.000000</td>\n      <td>18595.000000</td>\n      <td>15287.000000</td>\n      <td>18714.000000</td>\n      <td>16658.000000</td>\n      <td>19221.000000</td>\n      <td>13378.000000</td>\n      <td>17713.000000</td>\n    </tr>\n    <tr>\n      <th>6</th>\n      <td>Azerbaijan</td>\n      <td>41998.000000</td>\n      <td>36294.601562</td>\n      <td>30764.000000</td>\n      <td>36381.000000</td>\n      <td>0.000000</td>\n      <td>37850.000000</td>\n      <td>38368.500000</td>\n      <td>32707.900391</td>\n      <td>46787.398438</td>\n      <td>50728.398438</td>\n      <td>47534.699219</td>\n      <td>35252.300781</td>\n      <td>40009.000000</td>\n      <td>43126.800781</td>\n      <td>38372.500000</td>\n      <td>49463.300781</td>\n    </tr>\n    <tr>\n      <th>7</th>\n      <td>Bahrain</td>\n      <td>45.000000</td>\n      <td>225.500000</td>\n      <td>87.199997</td>\n      <td>176.800003</td>\n      <td>96.699997</td>\n      <td>94.900002</td>\n      <td>128.300003</td>\n      <td>39.299999</td>\n      <td>60.299999</td>\n      <td>66.599998</td>\n      <td>59.799999</td>\n      <td>74.199997</td>\n      <td>212.100006</td>\n      <td>47.299999</td>\n      <td>0.000000</td>\n      <td>0.000000</td>\n    </tr>\n    <tr>\n      <th>8</th>\n      <td>Barbados</td>\n      <td>705.630005</td>\n      <td>573.190002</td>\n      <td>656.179993</td>\n      <td>0.000000</td>\n      <td>0.000000</td>\n      <td>0.000000</td>\n      <td>0.000000</td>\n      <td>0.000000</td>\n      <td>0.000000</td>\n      <td>0.000000</td>\n      <td>0.000000</td>\n      <td>0.000000</td>\n      <td>0.000000</td>\n      <td>0.000000</td>\n      <td>0.000000</td>\n      <td>0.000000</td>\n    </tr>\n    <tr>\n      <th>9</th>\n      <td>Belarus</td>\n      <td>151963.203125</td>\n      <td>127258.796875</td>\n      <td>125805.601562</td>\n      <td>138054.000000</td>\n      <td>172045.000000</td>\n      <td>116286.000000</td>\n      <td>135978.000000</td>\n      <td>139294.000000</td>\n      <td>115042.000000</td>\n      <td>127894.000000</td>\n      <td>145720.000000</td>\n      <td>134732.000000</td>\n      <td>133902.000000</td>\n      <td>131826.000000</td>\n      <td>142623.000000</td>\n      <td>167877.000000</td>\n    </tr>\n  </tbody>\n</table>\n</div>",
                        "text/plain": "       Country or Area           1990           1995           1996  \\\n0              Albania   28385.000000   40311.000000       0.000000   \n1              Algeria   76160.000000   90270.000000   53380.000000   \n2              Andorra     539.947998     510.673004     560.340027   \n3             Anguilla      93.099998     100.730003       0.000000   \n4  Antigua and Barbuda     300.299988     374.500000     323.299988   \n5              Armenia   15794.000000   15407.000000   16777.000000   \n6           Azerbaijan   41998.000000   36294.601562   30764.000000   \n7              Bahrain      45.000000     225.500000      87.199997   \n8             Barbados     705.630005     573.190002     656.179993   \n9              Belarus  151963.203125  127258.796875  125805.601562   \n\n            1997           1998           1999           2000           2001  \\\n0       0.000000       0.000000   38284.000000   30683.000000   30491.000000   \n1   74460.000000   66470.000000   50150.000000   64430.000000   43840.000000   \n2     434.475006     254.000000     450.151001     518.666016     456.626007   \n3       0.000000       0.000000       0.000000      68.190002      70.730003   \n4     279.200012     384.500000     426.799988     249.600006     238.000000   \n5   18595.000000   13559.000000   14393.000000   11264.000000   12516.000000   \n6   36381.000000       0.000000   37850.000000   38368.500000   32707.900391   \n7     176.800003      96.699997      94.900002     128.300003      39.299999   \n8       0.000000       0.000000       0.000000       0.000000       0.000000   \n9  138054.000000  172045.000000  116286.000000  135978.000000  139294.000000   \n\n            2002           2003           2004           2005           2006  \\\n0   35883.000000   27893.000000   42787.000000   42840.000000   32380.000000   \n1   37317.000000       0.000000       0.000000       0.000000       0.000000   \n2     565.559021     566.583008     567.044006     530.278015     353.220001   \n3      68.190002     108.769997      84.250000     124.400002      99.550003   \n4     268.600006     253.899994     426.899994     371.000000     332.799988   \n5   17761.000000   18595.000000   15287.000000   18714.000000   16658.000000   \n6   46787.398438   50728.398438   47534.699219   35252.300781   40009.000000   \n7      60.299999      66.599998      59.799999      74.199997     212.100006   \n8       0.000000       0.000000       0.000000       0.000000       0.000000   \n9  115042.000000  127894.000000  145720.000000  134732.000000  133902.000000   \n\n            2007           2008           2009  \n0   30964.000000       0.000000       0.000000  \n1       0.000000  100000.000000       0.000000  \n2     306.630005       0.000000       0.000000  \n3      86.290001      96.889999      71.080002  \n4     293.600006     392.500000     276.899994  \n5   19221.000000   13378.000000   17713.000000  \n6   43126.800781   38372.500000   49463.300781  \n7      47.299999       0.000000       0.000000  \n8       0.000000       0.000000       0.000000  \n9  131826.000000  142623.000000  167877.000000  "
                    },
                    "execution_count": 9,
                    "metadata": {},
                    "output_type": "execute_result"
                }
            ],
            "source": "\n# add missing __iter__ method, so pandas accepts body as file-like object\nif not hasattr(body, \"__iter__\"): body.__iter__ = types.MethodType( __iter__, body )\n\ndf_data_1 = pd.read_csv(body)\ndf_data_1.head(10)\n"
        },
        {
            "cell_type": "code",
            "execution_count": null,
            "metadata": {},
            "outputs": [],
            "source": ""
        }
    ],
    "metadata": {
        "kernelspec": {
            "display_name": "Python 3.9",
            "language": "python",
            "name": "python3"
        },
        "language_info": {
            "codemirror_mode": {
                "name": "ipython",
                "version": 3
            },
            "file_extension": ".py",
            "mimetype": "text/x-python",
            "name": "python",
            "nbconvert_exporter": "python",
            "pygments_lexer": "ipython3",
            "version": "3.9.7"
        }
    },
    "nbformat": 4,
    "nbformat_minor": 1
}